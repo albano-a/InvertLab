{
 "cells": [
  {
   "cell_type": "code",
   "execution_count": 32,
   "metadata": {},
   "outputs": [],
   "source": [
    "import numpy as np\n",
    "import matplotlib.pyplot as plt\n",
    "import segyio\n",
    "import pylops\n",
    "import helper_functions as hf"
   ]
  },
  {
   "cell_type": "code",
   "execution_count": 33,
   "metadata": {},
   "outputs": [
    {
     "name": "stdout",
     "output_type": "stream",
     "text": [
      "(256, 256, 256)\n",
      "(256, 256, 256)\n",
      "(256, 256)\n",
      "(256, 256)\n"
     ]
    }
   ],
   "source": [
    "data_amp = np.load(\"Uncompressed/amplitude.npy\")\n",
    "data_imp = np.load(\"Uncompressed/impedance.npy\")\n",
    "\n",
    "approx_density = (2.3 + 2.7) / 2\n",
    "data_vel = data_imp / approx_density\n",
    "\n",
    "sliced_amp =  data_amp[:, 128, :] # Used for quick inversion\n",
    "sliced_imp =  data_imp[:, 128, :] # Used for quick inversion\n",
    "sliced_vel = data_vel[:, 128, :]\n",
    "\n",
    "print(np.shape(data_amp))\n",
    "print(np.shape(data_imp))\n",
    "print(np.shape(sliced_amp))\n",
    "print(np.shape(sliced_imp))\n",
    "\n"
   ]
  },
  {
   "cell_type": "code",
   "execution_count": 36,
   "metadata": {},
   "outputs": [],
   "source": [
    "\"\"\"\n",
    "Simulação de um modelo de baixa!!\n",
    "\"\"\"\n",
    "\n",
    "cutoff_back = 6 \n",
    "fs = 128\n",
    "\n",
    "data_imp_back = hf.butter_lowpass_filter(data_imp, cutoff_back, fs=fs, order=5)"
   ]
  },
  {
   "cell_type": "code",
   "execution_count": null,
   "metadata": {},
   "outputs": [],
   "source": []
  }
 ],
 "metadata": {
  "kernelspec": {
   "display_name": "Python 3",
   "language": "python",
   "name": "python3"
  },
  "language_info": {
   "codemirror_mode": {
    "name": "ipython",
    "version": 3
   },
   "file_extension": ".py",
   "mimetype": "text/x-python",
   "name": "python",
   "nbconvert_exporter": "python",
   "pygments_lexer": "ipython3",
   "version": "3.13.2"
  }
 },
 "nbformat": 4,
 "nbformat_minor": 2
}
